{
 "cells": [
  {
   "cell_type": "markdown",
   "metadata": {},
   "source": [
    "# Assembly statistics\n",
    "---"
   ]
  },
  {
   "cell_type": "code",
   "execution_count": 1,
   "metadata": {},
   "outputs": [],
   "source": [
    "import pandas as pd\n",
    "import seaborn as sns\n",
    "import matplotlib.pyplot as plt\n",
    "plt.style.use('ggplot')\n",
    "sns.set_style(\"whitegrid\")\n",
    "%matplotlib inline\n",
    "%config InlineBackend.figure_format = 'svg'"
   ]
  },
  {
   "cell_type": "code",
   "execution_count": 25,
   "metadata": {},
   "outputs": [],
   "source": [
    "def read_align(files):\n",
    "    align_stat = pd.DataFrame()\n",
    "    for f in files:\n",
    "        assembly = f.split(\"/\")[-3]\n",
    "        _df = pd.read_csv(f, header=None, names=[\"sample\", \"%\"], sep=\"\\t\")\n",
    "        _df[\"%\"] = [float(x.rstrip(\"%\")) for x in _df[\"%\"].values]\n",
    "        _df = _df.assign(assembly = pd.Series([assembly]*_df.shape[0], index=_df.index))\n",
    "        align_stat = pd.concat([align_stat, _df], sort=True)\n",
    "    return align_stat"
   ]
  },
  {
   "cell_type": "markdown",
   "metadata": {},
   "source": [
    "## Overall assembly statistics"
   ]
  },
  {
   "cell_type": "code",
   "execution_count": null,
   "metadata": {},
   "outputs": [],
   "source": [
    "stat_result = pd.read_csv(snakemake.input.stat, sep=\"\\t\", header=0)\n",
    "stat_result_m = pd.melt(stat_result, id_vars=[\"assembly\"])\n",
    "ax=sns.catplot(kind=\"bar\", x=\"assembly\", y=\"value\", order=sorted(stat_result.assembly),\n",
    "                    col=\"variable\", data=stat_result_m, height=2.5,\n",
    "                    sharey=False, col_wrap=4)\n",
    "ax.set_xticklabels(rotation=90)\n",
    "ax.set_titles(\"{col_name}\")\n",
    "plt.savefig(snakemake.output[0], dpi=300, bbox_inches=\"tight\")"
   ]
  },
  {
   "cell_type": "markdown",
   "metadata": {},
   "source": [
    "## Distribution of contig lengths"
   ]
  },
  {
   "cell_type": "code",
   "execution_count": null,
   "metadata": {},
   "outputs": [],
   "source": [
    "sizedist_result = pd.read_csv(snakemake.input.dist, sep=\"\\t\", header=0)\n",
    "ax = sns.lineplot(data=sizedist_result, hue=\"assembly\", x=\"min_length\", y=\"%\", linewidth=1, \n",
    "                  hue_order = sorted(set(sizedist_result.assembly)))\n",
    "ax.set_ylabel(\"% of total assembly\");\n",
    "ax.set_xlabel(\"contig length\");\n",
    "plt.savefig(snakemake.output[1], dpi=300, bbox_inches=\"tight\")"
   ]
  },
  {
   "cell_type": "markdown",
   "metadata": {},
   "source": [
    "## Alignment frequency"
   ]
  },
  {
   "cell_type": "code",
   "execution_count": null,
   "metadata": {},
   "outputs": [],
   "source": [
    "align_stat = read_align(snakemake.input.maps)\n",
    "ax = sns.stripplot(data=align_stat, x=\"assembly\", y=\"%\", hue=\"assembly\", \n",
    "                   order=sorted(align_stat.assembly.unique()), hue_order=sorted(align_stat.assembly.unique()))\n",
    "ax.set_ylabel(\"% alignment\");\n",
    "ax.set_xlabel(\"assembly\");\n",
    "plt.savefig(snakemake.output[2], dpi=300, bbox_inches=\"tight\")"
   ]
  }
 ],
 "metadata": {
  "kernelspec": {
   "display_name": "Python 3",
   "language": "python",
   "name": "python3"
  },
  "language_info": {
   "codemirror_mode": {
    "name": "ipython",
    "version": 3
   },
   "file_extension": ".py",
   "mimetype": "text/x-python",
   "name": "python",
   "nbconvert_exporter": "python",
   "pygments_lexer": "ipython3",
   "version": "3.8.2"
  }
 },
 "nbformat": 4,
 "nbformat_minor": 4
}
