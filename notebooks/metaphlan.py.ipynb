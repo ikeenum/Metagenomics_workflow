{
 "cells": [
  {
   "cell_type": "code",
   "execution_count": null,
   "metadata": {},
   "outputs": [],
   "source": [
    "import pandas as pd\n",
    "import seaborn as sns\n",
    "import matplotlib.pyplot as plt\n",
    "%matplotlib inline\n",
    "%config InlineBackend.figure_format = 'svg'\n",
    "plt.style.use('ggplot')\n",
    "sns.set_style(\"whitegrid\")"
   ]
  },
  {
   "cell_type": "code",
   "execution_count": null,
   "metadata": {},
   "outputs": [],
   "source": [
    "rank = snakemake.params.rank"
   ]
  },
  {
   "cell_type": "code",
   "execution_count": null,
   "metadata": {},
   "outputs": [],
   "source": [
    "df = pd.read_csv(snakemake.input[0], sep=\"\\t\", comment=\"#\", header=0, index_col=0)\n",
    "df = df.assign(taxa = pd.Series([x.split(\"|\")[-1] for x in df.index], index=df.index))"
   ]
  },
  {
   "cell_type": "code",
   "execution_count": null,
   "metadata": {},
   "outputs": [],
   "source": [
    "rank_prefix = {'superkingdom': 'k__', 'phylum': 'p__', 'class': 'c__', 'order': 'o__', 'family': 'f__', \n",
    "               'genus': 'g__', 'species': 's__'}"
   ]
  },
  {
   "cell_type": "code",
   "execution_count": null,
   "metadata": {},
   "outputs": [],
   "source": [
    "df_r = df.loc[df.taxa.str.contains(rank_prefix[rank])]\n",
    "plot_data = df_r.drop(\"NCBI_tax_id\", axis=1).groupby(\"taxa\").sum()\n",
    "plot_data.rename(columns = lambda x: x.replace(\"_pe\", \"\").replace(\"_se\", \"\"), inplace=True)\n",
    "plot_data.index.name = rank\n",
    "ax = sns.clustermap(plot_data, z_score=0, method=\"complete\", cbar_kws={'label': 'z-score'}, linewidth=.1)\n",
    "ax.ax_heatmap.set_xticklabels(ax.ax_heatmap.get_xticklabels(), rotation=90);\n",
    "plt.savefig(snakemake.output[0], dpi=300, bbox_inches=\"tight\")"
   ]
  }
 ],
 "metadata": {
  "kernelspec": {
   "display_name": "Python 3",
   "language": "python",
   "name": "python3"
  },
  "language_info": {
   "codemirror_mode": {
    "name": "ipython",
    "version": 3
   },
   "file_extension": ".py",
   "mimetype": "text/x-python",
   "name": "python",
   "nbconvert_exporter": "python",
   "pygments_lexer": "ipython3",
   "version": "3.8.2"
  }
 },
 "nbformat": 4,
 "nbformat_minor": 4
}
